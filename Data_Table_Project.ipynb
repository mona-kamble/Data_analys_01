{
 "cells": [
  {
   "cell_type": "code",
   "execution_count": 1,
   "id": "2eae187a-0055-406a-a71b-4c17dc6df527",
   "metadata": {},
   "outputs": [],
   "source": [
    "import pandas as pd"
   ]
  },
  {
   "cell_type": "code",
   "execution_count": 4,
   "id": "ee7ba18b-53d5-4876-a0e4-c8e986424453",
   "metadata": {},
   "outputs": [
    {
     "name": "stdout",
     "output_type": "stream",
     "text": [
      "                          State  Total_Production\n",
      "0   Andaman and Nicobar Islands      7.193882e+08\n",
      "1                Andhra Pradesh      1.736362e+10\n",
      "2             Arunachal Pradesh      7.406416e+06\n",
      "3                         Assam      2.115247e+09\n",
      "4                         Bihar      3.728911e+08\n",
      "5                    Chandigarh      6.464599e+05\n",
      "6                  Chhattisgarh      2.995856e+08\n",
      "7        Dadra and Nagar Haveli      1.847871e+06\n",
      "8                           Goa      5.063383e+08\n",
      "9                       Gujarat      5.656491e+08\n",
      "10                      Haryana      1.158916e+09\n",
      "11             Himachal Pradesh      3.994030e+07\n",
      "12           Jammu and Kashmir       1.445602e+07\n",
      "13                    Jharkhand      1.077774e+07\n",
      "14                    Karnataka      8.884775e+08\n",
      "15                       Kerala      9.803033e+10\n",
      "16               Madhya Pradesh      6.463094e+08\n",
      "17                  Maharashtra      1.340531e+09\n",
      "18                      Manipur      5.813420e+06\n",
      "19                    Meghalaya      1.211250e+07\n",
      "20                      Mizoram      3.409050e+06\n",
      "21                     Nagaland      1.393096e+07\n",
      "22                       Odisha      1.906117e+08\n",
      "23                   Puducherry      3.870545e+08\n",
      "24                       Punjab      6.038601e+08\n",
      "25                    Rajasthan      5.422818e+08\n",
      "26                       Sikkim      2.435735e+06\n",
      "27                   Tamil Nadu      1.224013e+10\n",
      "28                   Telangana       3.689331e+08\n",
      "29                      Tripura      1.252292e+07\n",
      "30                Uttar Pradesh      3.302646e+09\n",
      "31                  Uttarakhand      1.735351e+08\n",
      "32                  West Bengal      1.407224e+09\n"
     ]
    }
   ],
   "source": [
    "dataset= pd.read_csv(\"C:\\\\Users\\\\Mona\\\\Documents\\\\crop_production_updated2.csv\")\n",
    "\n",
    "total_production_by_state = dataset.groupby('State_Name')['Production'].sum().reset_index()\n",
    "total_production_by_state.columns = ['State', 'Total_Production']\n",
    "print(total_production_by_state)\n"
   ]
  },
  {
   "cell_type": "code",
   "execution_count": 5,
   "id": "6be788e1-f570-4d44-b84e-9379a3c57333",
   "metadata": {},
   "outputs": [
    {
     "name": "stdout",
     "output_type": "stream",
     "text": [
      "        Season  Average_Production\n",
      "0  Autumn             1.525184e+04\n",
      "1  Kharif             5.212646e+04\n",
      "2  Rabi               3.781955e+04\n",
      "3  Summer             1.267657e+04\n",
      "4  Whole Year         2.357753e+06\n",
      "5  Winter             7.250080e+04\n"
     ]
    }
   ],
   "source": [
    "average_production_per_season = dataset.groupby('Season')['Production'].mean().reset_index()\n",
    "average_production_per_season.columns = ['Season', 'Average_Production']\n",
    "print(average_production_per_season)\n"
   ]
  },
  {
   "cell_type": "code",
   "execution_count": 6,
   "id": "b3619da2-2516-4ced-8d20-bc985b50649b",
   "metadata": {},
   "outputs": [
    {
     "name": "stdout",
     "output_type": "stream",
     "text": [
      "        Crop_Name  Total_Production\n",
      "28       Coconut       1.299974e+11\n",
      "106     Sugarcane      5.590437e+09\n",
      "95           Rice      1.618285e+09\n",
      "119         Wheat      1.345058e+09\n",
      "87         Potato      4.347289e+08\n",
      "33   Cotton(lint)      3.762205e+08\n",
      "59          Maize      3.665424e+08\n",
      "49           Jute      2.077708e+08\n",
      "7          Banana      1.904029e+08\n",
      "41           Gram      1.774697e+08\n"
     ]
    }
   ],
   "source": [
    "top_crops_by_production = dataset.groupby('Crop')['Production'].sum().reset_index()\n",
    "top_crops_by_production.columns = ['Crop_Name', 'Total_Production']\n",
    "top_crops_by_production = top_crops_by_production.sort_values(by='Total_Production', ascending=False).head(10)  # Get top 10\n",
    "print(top_crops_by_production)\n"
   ]
  },
  {
   "cell_type": "code",
   "execution_count": null,
   "id": "4081a464-0690-4865-ad0c-12a04e29cf8d",
   "metadata": {},
   "outputs": [],
   "source": []
  }
 ],
 "metadata": {
  "kernelspec": {
   "display_name": "Python 3 (ipykernel)",
   "language": "python",
   "name": "python3"
  },
  "language_info": {
   "codemirror_mode": {
    "name": "ipython",
    "version": 3
   },
   "file_extension": ".py",
   "mimetype": "text/x-python",
   "name": "python",
   "nbconvert_exporter": "python",
   "pygments_lexer": "ipython3",
   "version": "3.12.6"
  }
 },
 "nbformat": 4,
 "nbformat_minor": 5
}
